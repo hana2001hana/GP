{
 "cells": [
  {
   "cell_type": "code",
   "execution_count": null,
   "id": "0bfc5fe3-1c1a-4288-bee1-8e9b5129cacf",
   "metadata": {},
   "outputs": [],
   "source": [
    "import PyPDF2\n",
    "import spacy"
   ]
  },
  {
   "cell_type": "code",
   "execution_count": null,
   "id": "20a455e0-2911-4b5a-9435-144d9721a790",
   "metadata": {},
   "outputs": [],
   "source": [
    "# تحميل نموذج اللغة الإنجليزية\n",
    "nlp = spacy.load('en_core_web_sm')"
   ]
  },
  {
   "cell_type": "code",
   "execution_count": null,
   "id": "267ef481-3dc4-47ba-b099-09242df50363",
   "metadata": {},
   "outputs": [],
   "source": [
    "# اسم ملف السيرة الذاتية بصيغة PDF\n",
    "pdf_file = 'cv.pdf'\n"
   ]
  },
  {
   "cell_type": "code",
   "execution_count": null,
   "id": "a400af56-452b-4468-85df-497bc319b009",
   "metadata": {},
   "outputs": [],
   "source": [
    "#او تحديد المسار الكامل\n",
    "pdf_file = 'C:/مسار/كامل/للملف/cv.pdf'\n"
   ]
  },
  {
   "cell_type": "code",
   "execution_count": null,
   "id": "d13c49d2-7e49-4cfa-9acd-0c0e517f5f7d",
   "metadata": {},
   "outputs": [],
   "source": [
    "# قراءة ملف السيرة الذاتية PDF\n",
    "def read_pdf(file_path):\n",
    "    text = \"\"\n",
    "    with open(file_path, 'rb') as pdf_file:\n",
    "        pdf_reader = PyPDF2.PdfFileReader(pdf_file)\n",
    "        for page in range(pdf_reader.numPages):\n",
    "            text += pdf_reader.getPage(page).extractText()\n",
    "    return text"
   ]
  },
  {
   "cell_type": "code",
   "execution_count": null,
   "id": "46fadb37-e0d4-4ca7-b6e1-3251705ae113",
   "metadata": {},
   "outputs": [],
   "source": [
    "# تحليل النص\n",
    "cv_text = read_pdf(pdf_file)\n",
    "doc = nlp(cv_text)"
   ]
  },
  {
   "cell_type": "code",
   "execution_count": null,
   "id": "23182a88-409a-4aa8-9c39-4c3d2a4959aa",
   "metadata": {},
   "outputs": [],
   "source": [
    "# استخراج المعلومات\n",
    "name = \"\"\n",
    "education = \"\"\n",
    "experience = \"\"\n",
    "skills = []\n",
    "\n",
    "for token in doc:\n",
    "    if \"name:\" in token.text:\n",
    "        name = token.nbor.text\n",
    "    elif \"education:\" in token.text:\n",
    "        education = token.nbor.text\n",
    "    elif \"experience:\" in token.text:\n",
    "        experience = token.nbor.text\n",
    "    elif \"skills:\" in token.text:\n",
    "        skills = [t.text for t in token.doc[token.i + 1 :]]\n"
   ]
  },
  {
   "cell_type": "code",
   "execution_count": null,
   "id": "5b626b6b-4927-40a6-9b43-06d0da89b2e2",
   "metadata": {},
   "outputs": [],
   "source": [
    "# عرض المعلومات\n",
    "print(\"name:\", name)\n",
    "print(\"education:\", education)\n",
    "print(\"experience:\", experience)\n",
    "print(\"skills:\", \", \".join(skills))"
   ]
  }
 ],
 "metadata": {
  "kernelspec": {
   "display_name": "Python 3 (ipykernel)",
   "language": "python",
   "name": "python3"
  },
  "language_info": {
   "codemirror_mode": {
    "name": "ipython",
    "version": 3
   },
   "file_extension": ".py",
   "mimetype": "text/x-python",
   "name": "python",
   "nbconvert_exporter": "python",
   "pygments_lexer": "ipython3",
   "version": "3.11.5"
  }
 },
 "nbformat": 4,
 "nbformat_minor": 5
}
