{
 "cells": [
  {
   "cell_type": "code",
   "execution_count": 3,
   "id": "cf30986d-d088-44ed-963b-07bcd0b4b361",
   "metadata": {
    "tags": []
   },
   "outputs": [
    {
     "name": "stdout",
     "output_type": "stream",
     "text": [
      "Name: \n",
      "Education: \n",
      "Experience: \n",
      "Skills: \n"
     ]
    }
   ],
   "source": [
    "import PyPDF2\n",
    "import spacy\n",
    "\n",
    "def read_pdf(file_path):\n",
    "    text = \"\"\n",
    "    with open(file_path, 'rb') as pdf_file:\n",
    "        pdf_reader = PyPDF2.PdfReader(pdf_file)\n",
    "        for page in pdf_reader.pages:\n",
    "            text += page.extract_text()\n",
    "    return text\n",
    "\n",
    "nlp = spacy.load('en_core_web_sm')\n",
    "pdf_file = 'cv2.pdf'\n",
    "resume_text = read_pdf(pdf_file)\n",
    "doc = nlp(resume_text)\n",
    "\n",
    "name = \"\"\n",
    "education = \"\"\n",
    "experience = \"\"\n",
    "skills = []\n",
    "\n",
    "for token in doc:\n",
    "    if \"Name:\" in token.text:\n",
    "        name = token.nbor.text\n",
    "    elif \"education:\" in token.text:\n",
    "        education = token.nbor.text\n",
    "    elif \"experience:\" in token.text:\n",
    "        experience = token.nbor.text\n",
    "    elif \"skills:\" in token.text:\n",
    "        skills = [t.text for t in token.doc[token.i + 1 :]]\n",
    "\n",
    "print(\"Name:\", name)\n",
    "print(\"Education:\", education)\n",
    "print(\"Experience:\", experience)\n",
    "print(\"Skills:\", \", \".join(skills))\n"
   ]
  },
  {
   "cell_type": "code",
   "execution_count": null,
   "id": "7af4fa71-39b6-47bd-9377-2699e4011a87",
   "metadata": {},
   "outputs": [],
   "source": []
  },
  {
   "cell_type": "code",
   "execution_count": 6,
   "id": "805a9d43-b24c-45f9-b295-53f10495aa89",
   "metadata": {
    "tags": []
   },
   "outputs": [
    {
     "name": "stdout",
     "output_type": "stream",
     "text": [
      "Name: \n",
      "Education: \n",
      "Experience: \n",
      "Skills: \n"
     ]
    }
   ],
   "source": [
    "import PyPDF2\n",
    "import spacy\n",
    "\n",
    "# تحليل النص من ملف PDF\n",
    "def read_pdf(file_path):\n",
    "    text = \"\"\n",
    "    with open(file_path, 'rb') as pdf_file:\n",
    "        pdf_reader = PyPDF2.PdfReader(pdf_file)\n",
    "        for page in pdf_reader.pages:\n",
    "            text += page.extract_text()\n",
    "    return text\n",
    "\n",
    "nlp = spacy.load('en_core_web_sm')\n",
    "\n",
    "# اسم الملف الذي تريد تحليله\n",
    "pdf_file = 'cv.pdf'\n",
    "\n",
    "# تحليل النص\n",
    "resume_text = read_pdf(pdf_file)\n",
    "doc = nlp(resume_text)\n",
    "\n",
    "# المتغيرات لتخزين المعلومات\n",
    "name = \"\"\n",
    "education = \"\"\n",
    "experience = \"\"\n",
    "skills = []\n",
    "\n",
    "# استخراج المعلومات\n",
    "for token in doc:\n",
    "    if \"Name:\" in token.text:\n",
    "        name = token.nbor.text\n",
    "    elif \"Education:\" in token.text:\n",
    "        education = token.nbor.text\n",
    "    elif \"Experience:\" in token.text:\n",
    "        experience = token.nbor.text\n",
    "    elif \"Skills:\" in token.text:\n",
    "        skills = [t.text for t in token.doc[token.i + 1 :]]\n",
    "\n",
    "# عرض النتائج\n",
    "print(\"Name:\", name)\n",
    "print(\"Education:\", education)\n",
    "print(\"Experience:\", experience)\n",
    "print(\"Skills:\", \", \".join(skills))\n"
   ]
  },
  {
   "cell_type": "code",
   "execution_count": null,
   "id": "4f500937-b3cc-462b-a3c6-16a90b960064",
   "metadata": {},
   "outputs": [],
   "source": []
  }
 ],
 "metadata": {
  "kernelspec": {
   "display_name": "Python 3 (ipykernel)",
   "language": "python",
   "name": "python3"
  },
  "language_info": {
   "codemirror_mode": {
    "name": "ipython",
    "version": 3
   },
   "file_extension": ".py",
   "mimetype": "text/x-python",
   "name": "python",
   "nbconvert_exporter": "python",
   "pygments_lexer": "ipython3",
   "version": "3.11.5"
  }
 },
 "nbformat": 4,
 "nbformat_minor": 5
}
