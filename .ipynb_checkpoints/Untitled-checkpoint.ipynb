{
 "cells": [
  {
   "cell_type": "code",
   "execution_count": null,
   "id": "cf30986d-d088-44ed-963b-07bcd0b4b361",
   "metadata": {},
   "outputs": [],
   "source": [
    "import PyPDF2\n",
    "import spacy\n",
    "def read_pdf(file_path):\n",
    "    text = \"\"\n",
    "    with open(file_path, 'rb') as pdf_file:\n",
    "        pdf_reader = PyPDF2.PdfReader(pdf_file)\n",
    "        for page in pdf_reader.pages:\n",
    "          text += page.extract_text()\n",
    "    return text\n",
    "nlp = spacy.load('en_core_web_sm')\n",
    "pdf_file = 'cv.pdf'\n",
    "resume_text = read_pdf(pdf_file)\n",
    "doc = nlp(resume_text)\n",
    "name = \"\"\n",
    "education = \"\"\n",
    "experience = \"\"\n",
    "skills = []\n",
    "\n",
    "for token in doc:\n",
    "    if \"name:\" in token.text:\n",
    "        name = token.nbor.text\n",
    "    elif \"education:\" in token.text:\n",
    "        education = token.nbor.text\n",
    "    elif \"experience:\" in token.text:\n",
    "        experience = token.nbor.text\n",
    "    elif \"skills:\" in token.text:\n",
    "        skills = [t.text for t in token.doc[token.i + 1 :]]\n",
    "        \n",
    "print(\"name:\", name)\n",
    "print(\"education:\", education)\n",
    "print(\"experience:\", experience)\n",
    "print(\"skills:\", \", \".join(skills))"
   ]
  }
 ],
 "metadata": {
  "kernelspec": {
   "display_name": "Python 3 (ipykernel)",
   "language": "python",
   "name": "python3"
  },
  "language_info": {
   "codemirror_mode": {
    "name": "ipython",
    "version": 3
   },
   "file_extension": ".py",
   "mimetype": "text/x-python",
   "name": "python",
   "nbconvert_exporter": "python",
   "pygments_lexer": "ipython3",
   "version": "3.11.5"
  }
 },
 "nbformat": 4,
 "nbformat_minor": 5
}
