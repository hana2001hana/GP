{
 "cells": [
  {
   "cell_type": "code",
   "execution_count": 1,
   "id": "0bfc5fe3-1c1a-4288-bee1-8e9b5129cacf",
   "metadata": {},
   "outputs": [],
   "source": [
    "import PyPDF2\n",
    "import spacy\n",
    "def read_pdf(file_path):\n",
    "    text = \"\"\n",
    "    with open(file_path, 'rb') as pdf_file:\n",
    "        pdf_reader = PyPDF2.PdfReader(pdf_file)\n",
    "        for page in pdf_reader.pages:\n",
    "          text += page.extract_text()\n",
    "    return text\n"
   ]
  },
  {
   "cell_type": "code",
   "execution_count": 2,
   "id": "20a455e0-2911-4b5a-9435-144d9721a790",
   "metadata": {},
   "outputs": [],
   "source": [
    "# تحميل نموذج اللغة الإنجليزية\n",
    "nlp = spacy.load('en_core_web_sm')"
   ]
  },
  {
   "cell_type": "code",
   "execution_count": 3,
   "id": "267ef481-3dc4-47ba-b099-09242df50363",
   "metadata": {},
   "outputs": [],
   "source": [
    "# اسم ملف السيرة الذاتية بصيغة PDF\n",
    "pdf_file = 'cv.pdf'\n"
   ]
  },
  {
   "cell_type": "code",
   "execution_count": 4,
   "id": "46fadb37-e0d4-4ca7-b6e1-3251705ae113",
   "metadata": {},
   "outputs": [],
   "source": [
    "# تحليل النص\n",
    "resume_text = read_pdf(pdf_file)\n",
    "doc = nlp(resume_text)"
   ]
  },
  {
   "cell_type": "code",
   "execution_count": 5,
   "id": "23182a88-409a-4aa8-9c39-4c3d2a4959aa",
   "metadata": {},
   "outputs": [],
   "source": [
    "# استخراج المعلومات\n",
    "name = \"\"\n",
    "education = \"\"\n",
    "experience = \"\"\n",
    "skills = []\n",
    "\n",
    "for token in doc:\n",
    "    if \"name:\" in token.text:\n",
    "        name = token.nbor.text\n",
    "    elif \"education:\" in token.text:\n",
    "        education = token.nbor.text\n",
    "    elif \"experience:\" in token.text:\n",
    "        experience = token.nbor.text\n",
    "    elif \"skills:\" in token.text:\n",
    "        skills = [t.text for t in token.doc[token.i + 1 :]]\n"
   ]
  },
  {
   "cell_type": "code",
   "execution_count": 6,
   "id": "5b626b6b-4927-40a6-9b43-06d0da89b2e2",
   "metadata": {},
   "outputs": [
    {
     "name": "stdout",
     "output_type": "stream",
     "text": [
      "name: \n",
      "education: \n",
      "experience: \n",
      "skills: \n"
     ]
    }
   ],
   "source": [
    "# عرض المعلومات\n",
    "print(\"name:\", name)\n",
    "print(\"education:\", education)\n",
    "print(\"experience:\", experience)\n",
    "print(\"skills:\", \", \".join(skills))"
   ]
  },
  {
   "cell_type": "code",
   "execution_count": null,
   "id": "d5e034fc-1862-4ecd-9864-fae596ba28aa",
   "metadata": {},
   "outputs": [],
   "source": []
  },
  {
   "cell_type": "code",
   "execution_count": null,
   "id": "3006cd88-6153-4712-a56e-f528f270eacd",
   "metadata": {},
   "outputs": [],
   "source": []
  }
 ],
 "metadata": {
  "kernelspec": {
   "display_name": "Python 3 (ipykernel)",
   "language": "python",
   "name": "python3"
  },
  "language_info": {
   "codemirror_mode": {
    "name": "ipython",
    "version": 3
   },
   "file_extension": ".py",
   "mimetype": "text/x-python",
   "name": "python",
   "nbconvert_exporter": "python",
   "pygments_lexer": "ipython3",
   "version": "3.11.5"
  }
 },
 "nbformat": 4,
 "nbformat_minor": 5
}
